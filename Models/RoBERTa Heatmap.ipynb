{
 "cells": [
  {
   "cell_type": "code",
   "execution_count": 1,
   "metadata": {},
   "outputs": [],
   "source": [
    "# !pip install pytreebank\n",
    "# !pip install loguru\n",
    "# !pip install transformers"
   ]
  },
  {
   "cell_type": "code",
   "execution_count": 2,
   "metadata": {},
   "outputs": [
    {
     "name": "stderr",
     "output_type": "stream",
     "text": [
      "/Users/baileywei/miniconda3/envs/ml_venv/lib/python3.7/site-packages/tensorflow/python/framework/dtypes.py:526: FutureWarning: Passing (type, 1) or '1type' as a synonym of type is deprecated; in a future version of numpy, it will be understood as (type, (1,)) / '(1,)type'.\n",
      "  _np_qint8 = np.dtype([(\"qint8\", np.int8, 1)])\n",
      "/Users/baileywei/miniconda3/envs/ml_venv/lib/python3.7/site-packages/tensorflow/python/framework/dtypes.py:527: FutureWarning: Passing (type, 1) or '1type' as a synonym of type is deprecated; in a future version of numpy, it will be understood as (type, (1,)) / '(1,)type'.\n",
      "  _np_quint8 = np.dtype([(\"quint8\", np.uint8, 1)])\n",
      "/Users/baileywei/miniconda3/envs/ml_venv/lib/python3.7/site-packages/tensorflow/python/framework/dtypes.py:528: FutureWarning: Passing (type, 1) or '1type' as a synonym of type is deprecated; in a future version of numpy, it will be understood as (type, (1,)) / '(1,)type'.\n",
      "  _np_qint16 = np.dtype([(\"qint16\", np.int16, 1)])\n",
      "/Users/baileywei/miniconda3/envs/ml_venv/lib/python3.7/site-packages/tensorflow/python/framework/dtypes.py:529: FutureWarning: Passing (type, 1) or '1type' as a synonym of type is deprecated; in a future version of numpy, it will be understood as (type, (1,)) / '(1,)type'.\n",
      "  _np_quint16 = np.dtype([(\"quint16\", np.uint16, 1)])\n",
      "/Users/baileywei/miniconda3/envs/ml_venv/lib/python3.7/site-packages/tensorflow/python/framework/dtypes.py:530: FutureWarning: Passing (type, 1) or '1type' as a synonym of type is deprecated; in a future version of numpy, it will be understood as (type, (1,)) / '(1,)type'.\n",
      "  _np_qint32 = np.dtype([(\"qint32\", np.int32, 1)])\n",
      "/Users/baileywei/miniconda3/envs/ml_venv/lib/python3.7/site-packages/tensorflow/python/framework/dtypes.py:535: FutureWarning: Passing (type, 1) or '1type' as a synonym of type is deprecated; in a future version of numpy, it will be understood as (type, (1,)) / '(1,)type'.\n",
      "  np_resource = np.dtype([(\"resource\", np.ubyte, 1)])\n",
      "2020-05-08 16:15:12.871 | INFO     | __main__:<module>:9 - Loading the tokenizer\n",
      "2020-05-08 16:15:13.119 | INFO     | __main__:<module>:12 - Loading SST\n"
     ]
    }
   ],
   "source": [
    "\"\"\"This module defines a configurable SSTDataset class.\"\"\"\n",
    "\n",
    "import pytreebank\n",
    "import torch\n",
    "from loguru import logger\n",
    "from transformers import RobertaTokenizer\n",
    "from torch.utils.data import Dataset\n",
    "\n",
    "logger.info(\"Loading the tokenizer\")\n",
    "tokenizer = RobertaTokenizer.from_pretrained(\"roberta-large\")\n",
    "\n",
    "logger.info(\"Loading SST\")\n",
    "sst = pytreebank.load_sst()\n",
    "\n",
    "\n",
    "def rpad(array, n=70):\n",
    "    \"\"\"Right padding.\"\"\"\n",
    "    current_len = len(array)\n",
    "    if current_len > n:\n",
    "        return array[: n - 1]\n",
    "    extra = n - current_len\n",
    "    return array + ([0] * extra)\n",
    "\n",
    "\n",
    "def get_binary_label(label):\n",
    "    \"\"\"Convert fine-grained label to binary label.\"\"\"\n",
    "    if label < 2:\n",
    "        return 0\n",
    "    if label > 2:\n",
    "        return 1\n",
    "    raise ValueError(\"Invalid label\")\n",
    "\n",
    "\n",
    "class SSTDataset(Dataset):\n",
    "    \"\"\"Configurable SST Dataset.\n",
    "    \n",
    "    Things we can configure:\n",
    "        - split (train / val / test)\n",
    "        - root / all nodes\n",
    "        - binary / fine-grained\n",
    "    \"\"\"\n",
    "\n",
    "    def __init__(self, split=\"train\", root=True, binary=True):\n",
    "        \"\"\"Initializes the dataset with given configuration.\n",
    "\n",
    "        Args:\n",
    "            split: str\n",
    "                Dataset split, one of [train, val, test]\n",
    "            root: bool\n",
    "                If true, only use root nodes. Else, use all nodes.\n",
    "            binary: bool\n",
    "                If true, use binary labels. Else, use fine-grained.\n",
    "        \"\"\"\n",
    "        logger.info(f\"Loading SST {split} set\")\n",
    "        self.sst = sst[split]\n",
    "\n",
    "        logger.info(\"Tokenizing\")\n",
    "        if root and binary:\n",
    "            self.data = [\n",
    "                (\n",
    "                    rpad(\n",
    "                        tokenizer.encode(\"[CLS] \" + tree.to_lines()[0] + \" [SEP]\"), n=66\n",
    "                    ),\n",
    "                    get_binary_label(tree.label),\n",
    "                )\n",
    "                for tree in self.sst\n",
    "                if tree.label != 2\n",
    "            ]\n",
    "        elif root and not binary:\n",
    "            self.data = [\n",
    "                (\n",
    "                    rpad(\n",
    "                        tokenizer.encode(\"[CLS] \" + tree.to_lines()[0] + \" [SEP]\"), n=66\n",
    "                    ),\n",
    "                    tree.label,\n",
    "                )\n",
    "                for tree in self.sst\n",
    "            ]\n",
    "        elif not root and not binary:\n",
    "            self.data = [\n",
    "                (rpad(tokenizer.encode(\"[CLS] \" + line + \" [SEP]\"), n=66), label)\n",
    "                for tree in self.sst\n",
    "                for label, line in tree.to_labeled_lines()\n",
    "            ]\n",
    "        else:\n",
    "            self.data = [\n",
    "                (\n",
    "                    rpad(tokenizer.encode(\"[CLS] \" + line + \" [SEP]\"), n=66),\n",
    "                    get_binary_label(label),\n",
    "                )\n",
    "                for tree in self.sst\n",
    "                for label, line in tree.to_labeled_lines()\n",
    "                if label != 2\n",
    "            ]\n",
    "\n",
    "    def __len__(self):\n",
    "        return len(self.data)\n",
    "\n",
    "    def __getitem__(self, index):\n",
    "        X, y = self.data[index]\n",
    "        X = torch.tensor(X)\n",
    "        return X, y\n"
   ]
  },
  {
   "cell_type": "code",
   "execution_count": 4,
   "metadata": {},
   "outputs": [
    {
     "name": "stderr",
     "output_type": "stream",
     "text": [
      "/Users/baileywei/miniconda3/envs/ml_venv/lib/python3.7/site-packages/torch/serialization.py:593: SourceChangeWarning: source code of class 'transformers.modeling_roberta.RobertaForSequenceClassification' has changed. you can retrieve the original source code by accessing the object's source attribute or set `torch.nn.Module.dump_patches = True` and use the patch tool to revert the changes.\n",
      "  warnings.warn(msg, SourceChangeWarning)\n",
      "/Users/baileywei/miniconda3/envs/ml_venv/lib/python3.7/site-packages/torch/serialization.py:593: SourceChangeWarning: source code of class 'transformers.modeling_roberta.RobertaModel' has changed. you can retrieve the original source code by accessing the object's source attribute or set `torch.nn.Module.dump_patches = True` and use the patch tool to revert the changes.\n",
      "  warnings.warn(msg, SourceChangeWarning)\n",
      "/Users/baileywei/miniconda3/envs/ml_venv/lib/python3.7/site-packages/torch/serialization.py:593: SourceChangeWarning: source code of class 'transformers.modeling_roberta.RobertaEmbeddings' has changed. you can retrieve the original source code by accessing the object's source attribute or set `torch.nn.Module.dump_patches = True` and use the patch tool to revert the changes.\n",
      "  warnings.warn(msg, SourceChangeWarning)\n",
      "/Users/baileywei/miniconda3/envs/ml_venv/lib/python3.7/site-packages/torch/serialization.py:593: SourceChangeWarning: source code of class 'torch.nn.modules.normalization.LayerNorm' has changed. you can retrieve the original source code by accessing the object's source attribute or set `torch.nn.Module.dump_patches = True` and use the patch tool to revert the changes.\n",
      "  warnings.warn(msg, SourceChangeWarning)\n",
      "/Users/baileywei/miniconda3/envs/ml_venv/lib/python3.7/site-packages/torch/serialization.py:593: SourceChangeWarning: source code of class 'transformers.modeling_bert.BertEncoder' has changed. you can retrieve the original source code by accessing the object's source attribute or set `torch.nn.Module.dump_patches = True` and use the patch tool to revert the changes.\n",
      "  warnings.warn(msg, SourceChangeWarning)\n",
      "/Users/baileywei/miniconda3/envs/ml_venv/lib/python3.7/site-packages/torch/serialization.py:593: SourceChangeWarning: source code of class 'torch.nn.modules.container.ModuleList' has changed. you can retrieve the original source code by accessing the object's source attribute or set `torch.nn.Module.dump_patches = True` and use the patch tool to revert the changes.\n",
      "  warnings.warn(msg, SourceChangeWarning)\n",
      "/Users/baileywei/miniconda3/envs/ml_venv/lib/python3.7/site-packages/torch/serialization.py:593: SourceChangeWarning: source code of class 'transformers.modeling_bert.BertLayer' has changed. you can retrieve the original source code by accessing the object's source attribute or set `torch.nn.Module.dump_patches = True` and use the patch tool to revert the changes.\n",
      "  warnings.warn(msg, SourceChangeWarning)\n",
      "/Users/baileywei/miniconda3/envs/ml_venv/lib/python3.7/site-packages/torch/serialization.py:593: SourceChangeWarning: source code of class 'transformers.modeling_bert.BertAttention' has changed. you can retrieve the original source code by accessing the object's source attribute or set `torch.nn.Module.dump_patches = True` and use the patch tool to revert the changes.\n",
      "  warnings.warn(msg, SourceChangeWarning)\n",
      "/Users/baileywei/miniconda3/envs/ml_venv/lib/python3.7/site-packages/torch/serialization.py:593: SourceChangeWarning: source code of class 'transformers.modeling_bert.BertSelfAttention' has changed. you can retrieve the original source code by accessing the object's source attribute or set `torch.nn.Module.dump_patches = True` and use the patch tool to revert the changes.\n",
      "  warnings.warn(msg, SourceChangeWarning)\n",
      "/Users/baileywei/miniconda3/envs/ml_venv/lib/python3.7/site-packages/torch/serialization.py:593: SourceChangeWarning: source code of class 'torch.nn.modules.linear.Linear' has changed. you can retrieve the original source code by accessing the object's source attribute or set `torch.nn.Module.dump_patches = True` and use the patch tool to revert the changes.\n",
      "  warnings.warn(msg, SourceChangeWarning)\n",
      "/Users/baileywei/miniconda3/envs/ml_venv/lib/python3.7/site-packages/torch/serialization.py:593: SourceChangeWarning: source code of class 'transformers.modeling_bert.BertSelfOutput' has changed. you can retrieve the original source code by accessing the object's source attribute or set `torch.nn.Module.dump_patches = True` and use the patch tool to revert the changes.\n",
      "  warnings.warn(msg, SourceChangeWarning)\n",
      "/Users/baileywei/miniconda3/envs/ml_venv/lib/python3.7/site-packages/torch/serialization.py:593: SourceChangeWarning: source code of class 'transformers.modeling_bert.BertIntermediate' has changed. you can retrieve the original source code by accessing the object's source attribute or set `torch.nn.Module.dump_patches = True` and use the patch tool to revert the changes.\n",
      "  warnings.warn(msg, SourceChangeWarning)\n",
      "/Users/baileywei/miniconda3/envs/ml_venv/lib/python3.7/site-packages/torch/serialization.py:593: SourceChangeWarning: source code of class 'transformers.modeling_bert.BertOutput' has changed. you can retrieve the original source code by accessing the object's source attribute or set `torch.nn.Module.dump_patches = True` and use the patch tool to revert the changes.\n",
      "  warnings.warn(msg, SourceChangeWarning)\n",
      "/Users/baileywei/miniconda3/envs/ml_venv/lib/python3.7/site-packages/torch/serialization.py:593: SourceChangeWarning: source code of class 'transformers.modeling_bert.BertPooler' has changed. you can retrieve the original source code by accessing the object's source attribute or set `torch.nn.Module.dump_patches = True` and use the patch tool to revert the changes.\n",
      "  warnings.warn(msg, SourceChangeWarning)\n",
      "/Users/baileywei/miniconda3/envs/ml_venv/lib/python3.7/site-packages/torch/serialization.py:593: SourceChangeWarning: source code of class 'torch.nn.modules.activation.Tanh' has changed. you can retrieve the original source code by accessing the object's source attribute or set `torch.nn.Module.dump_patches = True` and use the patch tool to revert the changes.\n",
      "  warnings.warn(msg, SourceChangeWarning)\n",
      "/Users/baileywei/miniconda3/envs/ml_venv/lib/python3.7/site-packages/torch/serialization.py:593: SourceChangeWarning: source code of class 'transformers.modeling_roberta.RobertaClassificationHead' has changed. you can retrieve the original source code by accessing the object's source attribute or set `torch.nn.Module.dump_patches = True` and use the patch tool to revert the changes.\n",
      "  warnings.warn(msg, SourceChangeWarning)\n"
     ]
    }
   ],
   "source": [
    "from tqdm import tqdm\n",
    "# bert = torch.load('bert-large-uncased__root__fine__e5.pickle', map_location=torch.device('cpu'))\n",
    "roberta = torch.load('roberta-large__root__fine__e5_591.pickle', map_location=torch.device('cpu'))"
   ]
  },
  {
   "cell_type": "code",
   "execution_count": 5,
   "metadata": {},
   "outputs": [
    {
     "name": "stderr",
     "output_type": "stream",
     "text": [
      "2020-05-08 16:15:48.146 | INFO     | __main__:__init__:54 - Loading SST test set\n",
      "2020-05-08 16:15:48.147 | INFO     | __main__:__init__:57 - Tokenizing\n",
      "  0%|          | 0/70 [00:00<?, ?it/s]A sequence with no special tokens has been passed to the RoBERTa model. This model requires special tokens in order to work. Please specify add_special_tokens=True in your tokenize.encode()or tokenizer.convert_tokens_to_ids().\n",
      "  1%|▏         | 1/70 [00:04<04:55,  4.29s/it]A sequence with no special tokens has been passed to the RoBERTa model. This model requires special tokens in order to work. Please specify add_special_tokens=True in your tokenize.encode()or tokenizer.convert_tokens_to_ids().\n",
      "  3%|▎         | 2/70 [00:08<04:52,  4.30s/it]A sequence with no special tokens has been passed to the RoBERTa model. This model requires special tokens in order to work. Please specify add_special_tokens=True in your tokenize.encode()or tokenizer.convert_tokens_to_ids().\n",
      "  4%|▍         | 3/70 [00:13<04:57,  4.44s/it]A sequence with no special tokens has been passed to the RoBERTa model. This model requires special tokens in order to work. Please specify add_special_tokens=True in your tokenize.encode()or tokenizer.convert_tokens_to_ids().\n",
      "  6%|▌         | 4/70 [00:18<05:08,  4.67s/it]A sequence with no special tokens has been passed to the RoBERTa model. This model requires special tokens in order to work. Please specify add_special_tokens=True in your tokenize.encode()or tokenizer.convert_tokens_to_ids().\n",
      "  7%|▋         | 5/70 [00:23<05:07,  4.73s/it]A sequence with no special tokens has been passed to the RoBERTa model. This model requires special tokens in order to work. Please specify add_special_tokens=True in your tokenize.encode()or tokenizer.convert_tokens_to_ids().\n",
      "  9%|▊         | 6/70 [00:28<05:05,  4.77s/it]A sequence with no special tokens has been passed to the RoBERTa model. This model requires special tokens in order to work. Please specify add_special_tokens=True in your tokenize.encode()or tokenizer.convert_tokens_to_ids().\n",
      " 10%|█         | 7/70 [00:33<05:03,  4.82s/it]A sequence with no special tokens has been passed to the RoBERTa model. This model requires special tokens in order to work. Please specify add_special_tokens=True in your tokenize.encode()or tokenizer.convert_tokens_to_ids().\n",
      " 11%|█▏        | 8/70 [00:38<05:05,  4.93s/it]A sequence with no special tokens has been passed to the RoBERTa model. This model requires special tokens in order to work. Please specify add_special_tokens=True in your tokenize.encode()or tokenizer.convert_tokens_to_ids().\n",
      " 13%|█▎        | 9/70 [00:43<05:03,  4.98s/it]A sequence with no special tokens has been passed to the RoBERTa model. This model requires special tokens in order to work. Please specify add_special_tokens=True in your tokenize.encode()or tokenizer.convert_tokens_to_ids().\n",
      " 14%|█▍        | 10/70 [00:48<05:00,  5.01s/it]A sequence with no special tokens has been passed to the RoBERTa model. This model requires special tokens in order to work. Please specify add_special_tokens=True in your tokenize.encode()or tokenizer.convert_tokens_to_ids().\n",
      " 16%|█▌        | 11/70 [00:53<04:55,  5.01s/it]A sequence with no special tokens has been passed to the RoBERTa model. This model requires special tokens in order to work. Please specify add_special_tokens=True in your tokenize.encode()or tokenizer.convert_tokens_to_ids().\n",
      " 17%|█▋        | 12/70 [00:59<04:57,  5.13s/it]A sequence with no special tokens has been passed to the RoBERTa model. This model requires special tokens in order to work. Please specify add_special_tokens=True in your tokenize.encode()or tokenizer.convert_tokens_to_ids().\n",
      " 19%|█▊        | 13/70 [01:04<04:51,  5.11s/it]A sequence with no special tokens has been passed to the RoBERTa model. This model requires special tokens in order to work. Please specify add_special_tokens=True in your tokenize.encode()or tokenizer.convert_tokens_to_ids().\n",
      " 20%|██        | 14/70 [01:09<04:43,  5.06s/it]A sequence with no special tokens has been passed to the RoBERTa model. This model requires special tokens in order to work. Please specify add_special_tokens=True in your tokenize.encode()or tokenizer.convert_tokens_to_ids().\n",
      " 21%|██▏       | 15/70 [01:13<04:35,  5.00s/it]A sequence with no special tokens has been passed to the RoBERTa model. This model requires special tokens in order to work. Please specify add_special_tokens=True in your tokenize.encode()or tokenizer.convert_tokens_to_ids().\n",
      " 23%|██▎       | 16/70 [01:18<04:28,  4.98s/it]A sequence with no special tokens has been passed to the RoBERTa model. This model requires special tokens in order to work. Please specify add_special_tokens=True in your tokenize.encode()or tokenizer.convert_tokens_to_ids().\n",
      " 24%|██▍       | 17/70 [01:23<04:19,  4.90s/it]A sequence with no special tokens has been passed to the RoBERTa model. This model requires special tokens in order to work. Please specify add_special_tokens=True in your tokenize.encode()or tokenizer.convert_tokens_to_ids().\n",
      " 26%|██▌       | 18/70 [01:28<04:11,  4.83s/it]A sequence with no special tokens has been passed to the RoBERTa model. This model requires special tokens in order to work. Please specify add_special_tokens=True in your tokenize.encode()or tokenizer.convert_tokens_to_ids().\n",
      " 27%|██▋       | 19/70 [01:32<04:03,  4.77s/it]A sequence with no special tokens has been passed to the RoBERTa model. This model requires special tokens in order to work. Please specify add_special_tokens=True in your tokenize.encode()or tokenizer.convert_tokens_to_ids().\n",
      " 29%|██▊       | 20/70 [01:37<03:56,  4.73s/it]A sequence with no special tokens has been passed to the RoBERTa model. This model requires special tokens in order to work. Please specify add_special_tokens=True in your tokenize.encode()or tokenizer.convert_tokens_to_ids().\n",
      " 30%|███       | 21/70 [01:42<03:50,  4.71s/it]A sequence with no special tokens has been passed to the RoBERTa model. This model requires special tokens in order to work. Please specify add_special_tokens=True in your tokenize.encode()or tokenizer.convert_tokens_to_ids().\n",
      " 31%|███▏      | 22/70 [01:46<03:44,  4.68s/it]A sequence with no special tokens has been passed to the RoBERTa model. This model requires special tokens in order to work. Please specify add_special_tokens=True in your tokenize.encode()or tokenizer.convert_tokens_to_ids().\n",
      " 33%|███▎      | 23/70 [01:51<03:39,  4.66s/it]A sequence with no special tokens has been passed to the RoBERTa model. This model requires special tokens in order to work. Please specify add_special_tokens=True in your tokenize.encode()or tokenizer.convert_tokens_to_ids().\n",
      " 34%|███▍      | 24/70 [01:55<03:33,  4.65s/it]A sequence with no special tokens has been passed to the RoBERTa model. This model requires special tokens in order to work. Please specify add_special_tokens=True in your tokenize.encode()or tokenizer.convert_tokens_to_ids().\n",
      " 36%|███▌      | 25/70 [02:00<03:29,  4.65s/it]A sequence with no special tokens has been passed to the RoBERTa model. This model requires special tokens in order to work. Please specify add_special_tokens=True in your tokenize.encode()or tokenizer.convert_tokens_to_ids().\n",
      " 37%|███▋      | 26/70 [02:05<03:24,  4.64s/it]A sequence with no special tokens has been passed to the RoBERTa model. This model requires special tokens in order to work. Please specify add_special_tokens=True in your tokenize.encode()or tokenizer.convert_tokens_to_ids().\n",
      " 39%|███▊      | 27/70 [02:09<03:19,  4.64s/it]A sequence with no special tokens has been passed to the RoBERTa model. This model requires special tokens in order to work. Please specify add_special_tokens=True in your tokenize.encode()or tokenizer.convert_tokens_to_ids().\n",
      " 40%|████      | 28/70 [02:14<03:17,  4.71s/it]A sequence with no special tokens has been passed to the RoBERTa model. This model requires special tokens in order to work. Please specify add_special_tokens=True in your tokenize.encode()or tokenizer.convert_tokens_to_ids().\n",
      " 41%|████▏     | 29/70 [02:19<03:14,  4.73s/it]A sequence with no special tokens has been passed to the RoBERTa model. This model requires special tokens in order to work. Please specify add_special_tokens=True in your tokenize.encode()or tokenizer.convert_tokens_to_ids().\n"
     ]
    },
    {
     "name": "stderr",
     "output_type": "stream",
     "text": [
      " 43%|████▎     | 30/70 [02:24<03:11,  4.78s/it]A sequence with no special tokens has been passed to the RoBERTa model. This model requires special tokens in order to work. Please specify add_special_tokens=True in your tokenize.encode()or tokenizer.convert_tokens_to_ids().\n",
      " 44%|████▍     | 31/70 [02:29<03:08,  4.85s/it]A sequence with no special tokens has been passed to the RoBERTa model. This model requires special tokens in order to work. Please specify add_special_tokens=True in your tokenize.encode()or tokenizer.convert_tokens_to_ids().\n",
      " 46%|████▌     | 32/70 [02:34<03:03,  4.82s/it]A sequence with no special tokens has been passed to the RoBERTa model. This model requires special tokens in order to work. Please specify add_special_tokens=True in your tokenize.encode()or tokenizer.convert_tokens_to_ids().\n",
      " 47%|████▋     | 33/70 [02:38<02:56,  4.77s/it]A sequence with no special tokens has been passed to the RoBERTa model. This model requires special tokens in order to work. Please specify add_special_tokens=True in your tokenize.encode()or tokenizer.convert_tokens_to_ids().\n",
      " 49%|████▊     | 34/70 [02:43<02:52,  4.79s/it]A sequence with no special tokens has been passed to the RoBERTa model. This model requires special tokens in order to work. Please specify add_special_tokens=True in your tokenize.encode()or tokenizer.convert_tokens_to_ids().\n",
      " 50%|█████     | 35/70 [02:48<02:48,  4.80s/it]A sequence with no special tokens has been passed to the RoBERTa model. This model requires special tokens in order to work. Please specify add_special_tokens=True in your tokenize.encode()or tokenizer.convert_tokens_to_ids().\n",
      " 51%|█████▏    | 36/70 [02:53<02:42,  4.78s/it]A sequence with no special tokens has been passed to the RoBERTa model. This model requires special tokens in order to work. Please specify add_special_tokens=True in your tokenize.encode()or tokenizer.convert_tokens_to_ids().\n",
      " 53%|█████▎    | 37/70 [02:58<02:39,  4.84s/it]A sequence with no special tokens has been passed to the RoBERTa model. This model requires special tokens in order to work. Please specify add_special_tokens=True in your tokenize.encode()or tokenizer.convert_tokens_to_ids().\n",
      " 54%|█████▍    | 38/70 [03:03<02:34,  4.83s/it]A sequence with no special tokens has been passed to the RoBERTa model. This model requires special tokens in order to work. Please specify add_special_tokens=True in your tokenize.encode()or tokenizer.convert_tokens_to_ids().\n",
      " 56%|█████▌    | 39/70 [03:07<02:30,  4.86s/it]A sequence with no special tokens has been passed to the RoBERTa model. This model requires special tokens in order to work. Please specify add_special_tokens=True in your tokenize.encode()or tokenizer.convert_tokens_to_ids().\n",
      " 57%|█████▋    | 40/70 [03:12<02:26,  4.88s/it]A sequence with no special tokens has been passed to the RoBERTa model. This model requires special tokens in order to work. Please specify add_special_tokens=True in your tokenize.encode()or tokenizer.convert_tokens_to_ids().\n",
      " 59%|█████▊    | 41/70 [03:17<02:21,  4.88s/it]A sequence with no special tokens has been passed to the RoBERTa model. This model requires special tokens in order to work. Please specify add_special_tokens=True in your tokenize.encode()or tokenizer.convert_tokens_to_ids().\n",
      " 60%|██████    | 42/70 [03:22<02:17,  4.90s/it]A sequence with no special tokens has been passed to the RoBERTa model. This model requires special tokens in order to work. Please specify add_special_tokens=True in your tokenize.encode()or tokenizer.convert_tokens_to_ids().\n",
      " 61%|██████▏   | 43/70 [03:27<02:11,  4.88s/it]A sequence with no special tokens has been passed to the RoBERTa model. This model requires special tokens in order to work. Please specify add_special_tokens=True in your tokenize.encode()or tokenizer.convert_tokens_to_ids().\n",
      " 63%|██████▎   | 44/70 [03:32<02:08,  4.96s/it]A sequence with no special tokens has been passed to the RoBERTa model. This model requires special tokens in order to work. Please specify add_special_tokens=True in your tokenize.encode()or tokenizer.convert_tokens_to_ids().\n",
      " 64%|██████▍   | 45/70 [03:37<02:02,  4.91s/it]A sequence with no special tokens has been passed to the RoBERTa model. This model requires special tokens in order to work. Please specify add_special_tokens=True in your tokenize.encode()or tokenizer.convert_tokens_to_ids().\n",
      " 66%|██████▌   | 46/70 [03:42<01:57,  4.91s/it]A sequence with no special tokens has been passed to the RoBERTa model. This model requires special tokens in order to work. Please specify add_special_tokens=True in your tokenize.encode()or tokenizer.convert_tokens_to_ids().\n",
      " 67%|██████▋   | 47/70 [03:47<01:53,  4.93s/it]A sequence with no special tokens has been passed to the RoBERTa model. This model requires special tokens in order to work. Please specify add_special_tokens=True in your tokenize.encode()or tokenizer.convert_tokens_to_ids().\n",
      " 69%|██████▊   | 48/70 [03:52<01:50,  5.01s/it]A sequence with no special tokens has been passed to the RoBERTa model. This model requires special tokens in order to work. Please specify add_special_tokens=True in your tokenize.encode()or tokenizer.convert_tokens_to_ids().\n",
      " 70%|███████   | 49/70 [03:57<01:46,  5.05s/it]A sequence with no special tokens has been passed to the RoBERTa model. This model requires special tokens in order to work. Please specify add_special_tokens=True in your tokenize.encode()or tokenizer.convert_tokens_to_ids().\n",
      " 71%|███████▏  | 50/70 [04:02<01:40,  5.04s/it]A sequence with no special tokens has been passed to the RoBERTa model. This model requires special tokens in order to work. Please specify add_special_tokens=True in your tokenize.encode()or tokenizer.convert_tokens_to_ids().\n",
      " 73%|███████▎  | 51/70 [04:07<01:34,  4.99s/it]A sequence with no special tokens has been passed to the RoBERTa model. This model requires special tokens in order to work. Please specify add_special_tokens=True in your tokenize.encode()or tokenizer.convert_tokens_to_ids().\n",
      " 74%|███████▍  | 52/70 [04:12<01:28,  4.91s/it]A sequence with no special tokens has been passed to the RoBERTa model. This model requires special tokens in order to work. Please specify add_special_tokens=True in your tokenize.encode()or tokenizer.convert_tokens_to_ids().\n",
      " 76%|███████▌  | 53/70 [04:16<01:22,  4.83s/it]A sequence with no special tokens has been passed to the RoBERTa model. This model requires special tokens in order to work. Please specify add_special_tokens=True in your tokenize.encode()or tokenizer.convert_tokens_to_ids().\n",
      " 77%|███████▋  | 54/70 [04:21<01:16,  4.78s/it]A sequence with no special tokens has been passed to the RoBERTa model. This model requires special tokens in order to work. Please specify add_special_tokens=True in your tokenize.encode()or tokenizer.convert_tokens_to_ids().\n",
      " 79%|███████▊  | 55/70 [04:26<01:12,  4.84s/it]A sequence with no special tokens has been passed to the RoBERTa model. This model requires special tokens in order to work. Please specify add_special_tokens=True in your tokenize.encode()or tokenizer.convert_tokens_to_ids().\n",
      " 80%|████████  | 56/70 [04:31<01:07,  4.81s/it]A sequence with no special tokens has been passed to the RoBERTa model. This model requires special tokens in order to work. Please specify add_special_tokens=True in your tokenize.encode()or tokenizer.convert_tokens_to_ids().\n",
      " 81%|████████▏ | 57/70 [04:36<01:02,  4.79s/it]A sequence with no special tokens has been passed to the RoBERTa model. This model requires special tokens in order to work. Please specify add_special_tokens=True in your tokenize.encode()or tokenizer.convert_tokens_to_ids().\n",
      " 83%|████████▎ | 58/70 [04:40<00:57,  4.77s/it]A sequence with no special tokens has been passed to the RoBERTa model. This model requires special tokens in order to work. Please specify add_special_tokens=True in your tokenize.encode()or tokenizer.convert_tokens_to_ids().\n",
      " 84%|████████▍ | 59/70 [04:45<00:52,  4.80s/it]A sequence with no special tokens has been passed to the RoBERTa model. This model requires special tokens in order to work. Please specify add_special_tokens=True in your tokenize.encode()or tokenizer.convert_tokens_to_ids().\n"
     ]
    },
    {
     "name": "stderr",
     "output_type": "stream",
     "text": [
      " 86%|████████▌ | 60/70 [04:50<00:49,  4.95s/it]A sequence with no special tokens has been passed to the RoBERTa model. This model requires special tokens in order to work. Please specify add_special_tokens=True in your tokenize.encode()or tokenizer.convert_tokens_to_ids().\n",
      " 87%|████████▋ | 61/70 [04:56<00:45,  5.05s/it]A sequence with no special tokens has been passed to the RoBERTa model. This model requires special tokens in order to work. Please specify add_special_tokens=True in your tokenize.encode()or tokenizer.convert_tokens_to_ids().\n",
      " 89%|████████▊ | 62/70 [05:01<00:41,  5.16s/it]A sequence with no special tokens has been passed to the RoBERTa model. This model requires special tokens in order to work. Please specify add_special_tokens=True in your tokenize.encode()or tokenizer.convert_tokens_to_ids().\n",
      " 90%|█████████ | 63/70 [05:08<00:39,  5.65s/it]A sequence with no special tokens has been passed to the RoBERTa model. This model requires special tokens in order to work. Please specify add_special_tokens=True in your tokenize.encode()or tokenizer.convert_tokens_to_ids().\n",
      " 91%|█████████▏| 64/70 [05:15<00:35,  5.93s/it]A sequence with no special tokens has been passed to the RoBERTa model. This model requires special tokens in order to work. Please specify add_special_tokens=True in your tokenize.encode()or tokenizer.convert_tokens_to_ids().\n",
      " 93%|█████████▎| 65/70 [05:21<00:31,  6.21s/it]A sequence with no special tokens has been passed to the RoBERTa model. This model requires special tokens in order to work. Please specify add_special_tokens=True in your tokenize.encode()or tokenizer.convert_tokens_to_ids().\n",
      " 94%|█████████▍| 66/70 [05:28<00:25,  6.40s/it]A sequence with no special tokens has been passed to the RoBERTa model. This model requires special tokens in order to work. Please specify add_special_tokens=True in your tokenize.encode()or tokenizer.convert_tokens_to_ids().\n",
      " 96%|█████████▌| 67/70 [05:35<00:19,  6.42s/it]A sequence with no special tokens has been passed to the RoBERTa model. This model requires special tokens in order to work. Please specify add_special_tokens=True in your tokenize.encode()or tokenizer.convert_tokens_to_ids().\n",
      " 97%|█████████▋| 68/70 [05:41<00:12,  6.39s/it]A sequence with no special tokens has been passed to the RoBERTa model. This model requires special tokens in order to work. Please specify add_special_tokens=True in your tokenize.encode()or tokenizer.convert_tokens_to_ids().\n",
      " 99%|█████████▊| 69/70 [05:47<00:06,  6.29s/it]A sequence with no special tokens has been passed to the RoBERTa model. This model requires special tokens in order to work. Please specify add_special_tokens=True in your tokenize.encode()or tokenizer.convert_tokens_to_ids().\n",
      "100%|██████████| 70/70 [05:47<00:00,  4.97s/it]\n"
     ]
    }
   ],
   "source": [
    "dataset = SSTDataset(\"test\", root=True, binary=False)\n",
    "\n",
    "remove_iter = 0 \n",
    "\n",
    "while remove_iter < 3:\n",
    "    for x in dataset.data:\n",
    "        if len(x[0]) != 66:\n",
    "            dataset.data.remove(x)\n",
    "    remove_iter += 1\n",
    "\n",
    "# for x in devset.data:\n",
    "#   if len(x[0]) != 66:\n",
    "#     devset.data.remove(x)\n",
    "\n",
    "# for x in testset.data:\n",
    "#   if len(x[0]) != 66:\n",
    "#     testset.data.remove(x)\n",
    "\n",
    "batch_size = 32\n",
    "device = torch.device('cpu')\n",
    "generator = torch.utils.data.DataLoader(\n",
    "    dataset, batch_size=batch_size, shuffle=True\n",
    ")\n",
    "\n",
    "roberta_pred = torch.LongTensor([])\n",
    "roberta_actual = torch.LongTensor([])\n",
    "\n",
    "roberta.eval()\n",
    "with torch.no_grad():\n",
    "    for batch, labels in tqdm(generator):\n",
    "        batch, labels = batch.to(device), labels.to(device)\n",
    "        logits = roberta(batch)[0]\n",
    "        batch_pred = torch.argmax(logits, axis=1)\n",
    "        roberta_pred = torch.cat((roberta_pred, batch_pred), 0)\n",
    "        roberta_actual = torch.cat((roberta_actual, labels), 0)"
   ]
  },
  {
   "cell_type": "code",
   "execution_count": 6,
   "metadata": {},
   "outputs": [
    {
     "data": {
      "text/plain": [
       "0.564961521050249"
      ]
     },
     "execution_count": 6,
     "metadata": {},
     "output_type": "execute_result"
    }
   ],
   "source": [
    "import sklearn\n",
    "acc = sklearn.metrics.accuracy_score(roberta_pred.numpy(), \n",
    "                                     roberta_actual.numpy())\n",
    "acc"
   ]
  },
  {
   "cell_type": "code",
   "execution_count": 7,
   "metadata": {},
   "outputs": [
    {
     "data": {
      "image/png": "[encoded data removed]",
      "text/plain": [
       "<Figure size 864x576 with 2 Axes>"
      ]
     },
     "metadata": {
      "needs_background": "light"
     },
     "output_type": "display_data"
    }
   ],
   "source": [
    "import pandas as pd\n",
    "import seaborn as sn\n",
    "import matplotlib.pyplot as plt\n",
    "\n",
    "data = {'y_Actual':    roberta_actual.numpy(),\n",
    "        'y_Predicted': roberta_pred.numpy()\n",
    "        }\n",
    "\n",
    "df = pd.DataFrame(data, columns=['y_Actual','y_Predicted'])\n",
    "confusion_matrix = pd.crosstab(df['y_Actual'], df['y_Predicted'], rownames=['Actual'], colnames=['Predicted'], margins = True)\n",
    "\n",
    "plt.figure(figsize=(12,8))\n",
    "plt.title('RoBERTa LARGE')\n",
    "sn.heatmap(confusion_matrix, annot=True, cmap='Blues')\n",
    "plt.show()"
   ]
  },
  {
   "cell_type": "code",
   "execution_count": null,
   "metadata": {},
   "outputs": [],
   "source": []
  },
  {
   "cell_type": "code",
   "execution_count": null,
   "metadata": {},
   "outputs": [],
   "source": []
  }
 ],
 "metadata": {
  "kernelspec": {
   "display_name": "Python 3",
   "language": "python",
   "name": "python3"
  },
  "language_info": {
   "codemirror_mode": {
    "name": "ipython",
    "version": 3
   },
   "file_extension": ".py",
   "mimetype": "text/x-python",
   "name": "python",
   "nbconvert_exporter": "python",
   "pygments_lexer": "ipython3",
   "version": "3.7.6"
  }
 },
 "nbformat": 4,
 "nbformat_minor": 4
}
