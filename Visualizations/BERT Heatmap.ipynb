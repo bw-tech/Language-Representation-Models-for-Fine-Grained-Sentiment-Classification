{
 "cells": [
  {
   "cell_type": "code",
   "execution_count": 1,
   "metadata": {},
   "outputs": [],
   "source": [
    "# !pip install pytreebank\n",
    "# !pip install loguru\n",
    "# !pip install transformers"
   ]
  },
  {
   "cell_type": "code",
   "execution_count": 2,
   "metadata": {},
   "outputs": [
    {
     "name": "stderr",
     "output_type": "stream",
     "text": [
      "/Users/baileywei/miniconda3/envs/ml_venv/lib/python3.7/site-packages/tensorflow/python/framework/dtypes.py:526: FutureWarning: Passing (type, 1) or '1type' as a synonym of type is deprecated; in a future version of numpy, it will be understood as (type, (1,)) / '(1,)type'.\n",
      "  _np_qint8 = np.dtype([(\"qint8\", np.int8, 1)])\n",
      "/Users/baileywei/miniconda3/envs/ml_venv/lib/python3.7/site-packages/tensorflow/python/framework/dtypes.py:527: FutureWarning: Passing (type, 1) or '1type' as a synonym of type is deprecated; in a future version of numpy, it will be understood as (type, (1,)) / '(1,)type'.\n",
      "  _np_quint8 = np.dtype([(\"quint8\", np.uint8, 1)])\n",
      "/Users/baileywei/miniconda3/envs/ml_venv/lib/python3.7/site-packages/tensorflow/python/framework/dtypes.py:528: FutureWarning: Passing (type, 1) or '1type' as a synonym of type is deprecated; in a future version of numpy, it will be understood as (type, (1,)) / '(1,)type'.\n",
      "  _np_qint16 = np.dtype([(\"qint16\", np.int16, 1)])\n",
      "/Users/baileywei/miniconda3/envs/ml_venv/lib/python3.7/site-packages/tensorflow/python/framework/dtypes.py:529: FutureWarning: Passing (type, 1) or '1type' as a synonym of type is deprecated; in a future version of numpy, it will be understood as (type, (1,)) / '(1,)type'.\n",
      "  _np_quint16 = np.dtype([(\"quint16\", np.uint16, 1)])\n",
      "/Users/baileywei/miniconda3/envs/ml_venv/lib/python3.7/site-packages/tensorflow/python/framework/dtypes.py:530: FutureWarning: Passing (type, 1) or '1type' as a synonym of type is deprecated; in a future version of numpy, it will be understood as (type, (1,)) / '(1,)type'.\n",
      "  _np_qint32 = np.dtype([(\"qint32\", np.int32, 1)])\n",
      "/Users/baileywei/miniconda3/envs/ml_venv/lib/python3.7/site-packages/tensorflow/python/framework/dtypes.py:535: FutureWarning: Passing (type, 1) or '1type' as a synonym of type is deprecated; in a future version of numpy, it will be understood as (type, (1,)) / '(1,)type'.\n",
      "  np_resource = np.dtype([(\"resource\", np.ubyte, 1)])\n",
      "2020-05-08 16:24:33.814 | INFO     | __main__:<module>:9 - Loading the tokenizer\n",
      "2020-05-08 16:24:33.948 | INFO     | __main__:<module>:12 - Loading SST\n"
     ]
    }
   ],
   "source": [
    "\"\"\"This module defines a configurable SSTDataset class.\"\"\"\n",
    "\n",
    "import pytreebank\n",
    "import torch\n",
    "from loguru import logger\n",
    "from transformers import BertTokenizer\n",
    "from torch.utils.data import Dataset\n",
    "\n",
    "logger.info(\"Loading the tokenizer\")\n",
    "tokenizer = BertTokenizer.from_pretrained(\"bert-large-uncased\")\n",
    "\n",
    "logger.info(\"Loading SST\")\n",
    "sst = pytreebank.load_sst()\n",
    "\n",
    "\n",
    "def rpad(array, n=70):\n",
    "    \"\"\"Right padding.\"\"\"\n",
    "    current_len = len(array)\n",
    "    if current_len > n:\n",
    "        return array[: n - 1]\n",
    "    extra = n - current_len\n",
    "    return array + ([0] * extra)\n",
    "\n",
    "\n",
    "def get_binary_label(label):\n",
    "    \"\"\"Convert fine-grained label to binary label.\"\"\"\n",
    "    if label < 2:\n",
    "        return 0\n",
    "    if label > 2:\n",
    "        return 1\n",
    "    raise ValueError(\"Invalid label\")\n",
    "\n",
    "\n",
    "class SSTDataset(Dataset):\n",
    "    \"\"\"Configurable SST Dataset.\n",
    "    \n",
    "    Things we can configure:\n",
    "        - split (train / val / test)\n",
    "        - root / all nodes\n",
    "        - binary / fine-grained\n",
    "    \"\"\"\n",
    "\n",
    "    def __init__(self, split=\"train\", root=True, binary=True):\n",
    "        \"\"\"Initializes the dataset with given configuration.\n",
    "\n",
    "        Args:\n",
    "            split: str\n",
    "                Dataset split, one of [train, val, test]\n",
    "            root: bool\n",
    "                If true, only use root nodes. Else, use all nodes.\n",
    "            binary: bool\n",
    "                If true, use binary labels. Else, use fine-grained.\n",
    "        \"\"\"\n",
    "        logger.info(f\"Loading SST {split} set\")\n",
    "        self.sst = sst[split]\n",
    "\n",
    "        logger.info(\"Tokenizing\")\n",
    "        if root and binary:\n",
    "            self.data = [\n",
    "                (\n",
    "                    rpad(\n",
    "                        tokenizer.encode(\"[CLS] \" + tree.to_lines()[0] + \" [SEP]\"), n=66\n",
    "                    ),\n",
    "                    get_binary_label(tree.label),\n",
    "                )\n",
    "                for tree in self.sst\n",
    "                if tree.label != 2\n",
    "            ]\n",
    "        elif root and not binary:\n",
    "            self.data = [\n",
    "                (\n",
    "                    rpad(\n",
    "                        tokenizer.encode(\"[CLS] \" + tree.to_lines()[0] + \" [SEP]\"), n=66\n",
    "                    ),\n",
    "                    tree.label,\n",
    "                )\n",
    "                for tree in self.sst\n",
    "            ]\n",
    "        elif not root and not binary:\n",
    "            self.data = [\n",
    "                (rpad(tokenizer.encode(\"[CLS] \" + line + \" [SEP]\"), n=66), label)\n",
    "                for tree in self.sst\n",
    "                for label, line in tree.to_labeled_lines()\n",
    "            ]\n",
    "        else:\n",
    "            self.data = [\n",
    "                (\n",
    "                    rpad(tokenizer.encode(\"[CLS] \" + line + \" [SEP]\"), n=66),\n",
    "                    get_binary_label(label),\n",
    "                )\n",
    "                for tree in self.sst\n",
    "                for label, line in tree.to_labeled_lines()\n",
    "                if label != 2\n",
    "            ]\n",
    "\n",
    "    def __len__(self):\n",
    "        return len(self.data)\n",
    "\n",
    "    def __getitem__(self, index):\n",
    "        X, y = self.data[index]\n",
    "        X = torch.tensor(X)\n",
    "        return X, y\n"
   ]
  },
  {
   "cell_type": "code",
   "execution_count": 3,
   "metadata": {},
   "outputs": [
    {
     "name": "stderr",
     "output_type": "stream",
     "text": [
      "/Users/baileywei/miniconda3/envs/ml_venv/lib/python3.7/site-packages/torch/serialization.py:593: SourceChangeWarning: source code of class 'transformers.modeling_bert.BertForSequenceClassification' has changed. you can retrieve the original source code by accessing the object's source attribute or set `torch.nn.Module.dump_patches = True` and use the patch tool to revert the changes.\n",
      "  warnings.warn(msg, SourceChangeWarning)\n",
      "/Users/baileywei/miniconda3/envs/ml_venv/lib/python3.7/site-packages/torch/serialization.py:593: SourceChangeWarning: source code of class 'transformers.modeling_bert.BertModel' has changed. you can retrieve the original source code by accessing the object's source attribute or set `torch.nn.Module.dump_patches = True` and use the patch tool to revert the changes.\n",
      "  warnings.warn(msg, SourceChangeWarning)\n",
      "/Users/baileywei/miniconda3/envs/ml_venv/lib/python3.7/site-packages/torch/serialization.py:593: SourceChangeWarning: source code of class 'transformers.modeling_bert.BertEmbeddings' has changed. you can retrieve the original source code by accessing the object's source attribute or set `torch.nn.Module.dump_patches = True` and use the patch tool to revert the changes.\n",
      "  warnings.warn(msg, SourceChangeWarning)\n",
      "/Users/baileywei/miniconda3/envs/ml_venv/lib/python3.7/site-packages/torch/serialization.py:593: SourceChangeWarning: source code of class 'transformers.modeling_bert.BertEncoder' has changed. you can retrieve the original source code by accessing the object's source attribute or set `torch.nn.Module.dump_patches = True` and use the patch tool to revert the changes.\n",
      "  warnings.warn(msg, SourceChangeWarning)\n",
      "/Users/baileywei/miniconda3/envs/ml_venv/lib/python3.7/site-packages/torch/serialization.py:593: SourceChangeWarning: source code of class 'transformers.modeling_bert.BertLayer' has changed. you can retrieve the original source code by accessing the object's source attribute or set `torch.nn.Module.dump_patches = True` and use the patch tool to revert the changes.\n",
      "  warnings.warn(msg, SourceChangeWarning)\n",
      "/Users/baileywei/miniconda3/envs/ml_venv/lib/python3.7/site-packages/torch/serialization.py:593: SourceChangeWarning: source code of class 'transformers.modeling_bert.BertAttention' has changed. you can retrieve the original source code by accessing the object's source attribute or set `torch.nn.Module.dump_patches = True` and use the patch tool to revert the changes.\n",
      "  warnings.warn(msg, SourceChangeWarning)\n",
      "/Users/baileywei/miniconda3/envs/ml_venv/lib/python3.7/site-packages/torch/serialization.py:593: SourceChangeWarning: source code of class 'transformers.modeling_bert.BertSelfAttention' has changed. you can retrieve the original source code by accessing the object's source attribute or set `torch.nn.Module.dump_patches = True` and use the patch tool to revert the changes.\n",
      "  warnings.warn(msg, SourceChangeWarning)\n",
      "/Users/baileywei/miniconda3/envs/ml_venv/lib/python3.7/site-packages/torch/serialization.py:593: SourceChangeWarning: source code of class 'transformers.modeling_bert.BertSelfOutput' has changed. you can retrieve the original source code by accessing the object's source attribute or set `torch.nn.Module.dump_patches = True` and use the patch tool to revert the changes.\n",
      "  warnings.warn(msg, SourceChangeWarning)\n",
      "/Users/baileywei/miniconda3/envs/ml_venv/lib/python3.7/site-packages/torch/serialization.py:593: SourceChangeWarning: source code of class 'transformers.modeling_bert.BertIntermediate' has changed. you can retrieve the original source code by accessing the object's source attribute or set `torch.nn.Module.dump_patches = True` and use the patch tool to revert the changes.\n",
      "  warnings.warn(msg, SourceChangeWarning)\n",
      "/Users/baileywei/miniconda3/envs/ml_venv/lib/python3.7/site-packages/torch/serialization.py:593: SourceChangeWarning: source code of class 'transformers.modeling_bert.BertOutput' has changed. you can retrieve the original source code by accessing the object's source attribute or set `torch.nn.Module.dump_patches = True` and use the patch tool to revert the changes.\n",
      "  warnings.warn(msg, SourceChangeWarning)\n",
      "/Users/baileywei/miniconda3/envs/ml_venv/lib/python3.7/site-packages/torch/serialization.py:593: SourceChangeWarning: source code of class 'transformers.modeling_bert.BertPooler' has changed. you can retrieve the original source code by accessing the object's source attribute or set `torch.nn.Module.dump_patches = True` and use the patch tool to revert the changes.\n",
      "  warnings.warn(msg, SourceChangeWarning)\n"
     ]
    }
   ],
   "source": [
    "from tqdm import tqdm\n",
    "bert = torch.load('bert-large-uncased__root__fine__e9.pickle', map_location=torch.device('cpu'))\n",
    "# roberta = torch.load('roberta-large__root__fine__e5_591.pickle', map_location=torch.device('cpu'))"
   ]
  },
  {
   "cell_type": "code",
   "execution_count": 4,
   "metadata": {},
   "outputs": [
    {
     "name": "stderr",
     "output_type": "stream",
     "text": [
      "2020-05-08 16:24:39.329 | INFO     | __main__:__init__:54 - Loading SST test set\n",
      "2020-05-08 16:24:39.330 | INFO     | __main__:__init__:57 - Tokenizing\n",
      "100%|██████████| 70/70 [05:27<00:00,  4.68s/it]\n"
     ]
    }
   ],
   "source": [
    "dataset = SSTDataset(\"test\", root=True, binary=False)\n",
    "\n",
    "remove_iter = 0 \n",
    "\n",
    "while remove_iter < 3:\n",
    "    for x in dataset.data:\n",
    "        if len(x[0]) != 66:\n",
    "            dataset.data.remove(x)\n",
    "    remove_iter += 1\n",
    "\n",
    "# for x in devset.data:\n",
    "#   if len(x[0]) != 66:\n",
    "#     devset.data.remove(x)\n",
    "\n",
    "# for x in testset.data:\n",
    "#   if len(x[0]) != 66:\n",
    "#     testset.data.remove(x)\n",
    "\n",
    "batch_size = 32\n",
    "device = torch.device('cpu')\n",
    "generator = torch.utils.data.DataLoader(\n",
    "    dataset, batch_size=batch_size, shuffle=True\n",
    ")\n",
    "\n",
    "bert_pred = torch.LongTensor([])\n",
    "bert_actual = torch.LongTensor([])\n",
    "\n",
    "bert.eval()\n",
    "with torch.no_grad():\n",
    "    for batch, labels in tqdm(generator):\n",
    "        batch, labels = batch.to(device), labels.to(device)\n",
    "        logits = bert(batch)[0]\n",
    "        batch_pred = torch.argmax(logits, axis=1)\n",
    "        bert_pred = torch.cat((bert_pred, batch_pred), 0)\n",
    "        bert_actual = torch.cat((bert_actual, labels), 0)"
   ]
  },
  {
   "cell_type": "code",
   "execution_count": 5,
   "metadata": {},
   "outputs": [
    {
     "ename": "NameError",
     "evalue": "name 'roberta_pred' is not defined",
     "output_type": "error",
     "traceback": [
      "\u001b[0;31m---------------------------------------------------------------------------\u001b[0m",
      "\u001b[0;31mNameError\u001b[0m                                 Traceback (most recent call last)",
      "\u001b[0;32m<ipython-input-5-1c1166d56b75>\u001b[0m in \u001b[0;36m<module>\u001b[0;34m\u001b[0m\n\u001b[1;32m      1\u001b[0m \u001b[0;32mimport\u001b[0m \u001b[0msklearn\u001b[0m\u001b[0;34m\u001b[0m\u001b[0;34m\u001b[0m\u001b[0m\n\u001b[0;32m----> 2\u001b[0;31m acc = sklearn.metrics.accuracy_score(roberta_pred.numpy(), \n\u001b[0m\u001b[1;32m      3\u001b[0m                                      roberta_actual.numpy())\n\u001b[1;32m      4\u001b[0m \u001b[0macc\u001b[0m\u001b[0;34m\u001b[0m\u001b[0;34m\u001b[0m\u001b[0m\n",
      "\u001b[0;31mNameError\u001b[0m: name 'roberta_pred' is not defined"
     ]
    }
   ],
   "source": [
    "import sklearn\n",
    "acc = sklearn.metrics.accuracy_score(roberta_pred.numpy(), \n",
    "                                     roberta_actual.numpy())\n",
    "acc"
   ]
  },
  {
   "cell_type": "code",
   "execution_count": null,
   "metadata": {},
   "outputs": [],
   "source": [
    "import pandas as pd\n",
    "import seaborn as sn\n",
    "import matplotlib.pyplot as plt\n",
    "\n",
    "data = {'y_Actual':    roberta_actual.numpy(),\n",
    "        'y_Predicted': roberta_pred.numpy()\n",
    "        }\n",
    "\n",
    "df = pd.DataFrame(data, columns=['y_Actual','y_Predicted'])\n",
    "confusion_matrix = pd.crosstab(df['y_Actual'], df['y_Predicted'], rownames=['Actual'], colnames=['Predicted'], margins = True)\n",
    "\n",
    "plt.figure(figsize=(12,8))\n",
    "plt.title('BERT Large Uncased')\n",
    "sn.heatmap(confusion_matrix, annot=True, cmap='Blues')\n",
    "plt.show()"
   ]
  },
  {
   "cell_type": "code",
   "execution_count": null,
   "metadata": {},
   "outputs": [],
   "source": []
  },
  {
   "cell_type": "code",
   "execution_count": null,
   "metadata": {},
   "outputs": [],
   "source": []
  }
 ],
 "metadata": {
  "kernelspec": {
   "display_name": "Python 3",
   "language": "python",
   "name": "python3"
  },
  "language_info": {
   "codemirror_mode": {
    "name": "ipython",
    "version": 3
   },
   "file_extension": ".py",
   "mimetype": "text/x-python",
   "name": "python",
   "nbconvert_exporter": "python",
   "pygments_lexer": "ipython3",
   "version": "3.7.6"
  }
 },
 "nbformat": 4,
 "nbformat_minor": 4
}
